{
  "cells": [
    {
      "cell_type": "markdown",
      "metadata": {
        "id": "pep10KJ56zU4"
      },
      "source": [
        "1. Install Dependencies"
      ]
    },
    {
      "cell_type": "code",
      "execution_count": 1,
      "metadata": {
        "colab": {
          "base_uri": "https://localhost:8080/"
        },
        "id": "7WLA6_b66tWX",
        "outputId": "8eeb7e9c-3191-421f-8e7b-a33bd86d8c2e"
      },
      "outputs": [
        {
          "output_type": "stream",
          "name": "stdout",
          "text": [
            "Requirement already satisfied: ftfy in /usr/local/lib/python3.11/dist-packages (6.3.1)\n",
            "Requirement already satisfied: regex in /usr/local/lib/python3.11/dist-packages (2024.11.6)\n",
            "Requirement already satisfied: tqdm in /usr/local/lib/python3.11/dist-packages (4.67.1)\n",
            "Requirement already satisfied: wcwidth in /usr/local/lib/python3.11/dist-packages (from ftfy) (0.2.13)\n",
            "Collecting git+https://github.com/openai/CLIP.git\n",
            "  Cloning https://github.com/openai/CLIP.git to /tmp/pip-req-build-hf2tgqpy\n",
            "  Running command git clone --filter=blob:none --quiet https://github.com/openai/CLIP.git /tmp/pip-req-build-hf2tgqpy\n",
            "  Resolved https://github.com/openai/CLIP.git to commit dcba3cb2e2827b402d2701e7e1c7d9fed8a20ef1\n",
            "  Preparing metadata (setup.py) ... \u001b[?25l\u001b[?25hdone\n",
            "Requirement already satisfied: ftfy in /usr/local/lib/python3.11/dist-packages (from clip==1.0) (6.3.1)\n",
            "Requirement already satisfied: packaging in /usr/local/lib/python3.11/dist-packages (from clip==1.0) (24.2)\n",
            "Requirement already satisfied: regex in /usr/local/lib/python3.11/dist-packages (from clip==1.0) (2024.11.6)\n",
            "Requirement already satisfied: tqdm in /usr/local/lib/python3.11/dist-packages (from clip==1.0) (4.67.1)\n",
            "Requirement already satisfied: torch in /usr/local/lib/python3.11/dist-packages (from clip==1.0) (2.5.1+cu124)\n",
            "Requirement already satisfied: torchvision in /usr/local/lib/python3.11/dist-packages (from clip==1.0) (0.20.1+cu124)\n",
            "Requirement already satisfied: wcwidth in /usr/local/lib/python3.11/dist-packages (from ftfy->clip==1.0) (0.2.13)\n",
            "Requirement already satisfied: filelock in /usr/local/lib/python3.11/dist-packages (from torch->clip==1.0) (3.17.0)\n",
            "Requirement already satisfied: typing-extensions>=4.8.0 in /usr/local/lib/python3.11/dist-packages (from torch->clip==1.0) (4.12.2)\n",
            "Requirement already satisfied: networkx in /usr/local/lib/python3.11/dist-packages (from torch->clip==1.0) (3.4.2)\n",
            "Requirement already satisfied: jinja2 in /usr/local/lib/python3.11/dist-packages (from torch->clip==1.0) (3.1.5)\n",
            "Requirement already satisfied: fsspec in /usr/local/lib/python3.11/dist-packages (from torch->clip==1.0) (2024.10.0)\n",
            "Requirement already satisfied: nvidia-cuda-nvrtc-cu12==12.4.127 in /usr/local/lib/python3.11/dist-packages (from torch->clip==1.0) (12.4.127)\n",
            "Requirement already satisfied: nvidia-cuda-runtime-cu12==12.4.127 in /usr/local/lib/python3.11/dist-packages (from torch->clip==1.0) (12.4.127)\n",
            "Requirement already satisfied: nvidia-cuda-cupti-cu12==12.4.127 in /usr/local/lib/python3.11/dist-packages (from torch->clip==1.0) (12.4.127)\n",
            "Requirement already satisfied: nvidia-cudnn-cu12==9.1.0.70 in /usr/local/lib/python3.11/dist-packages (from torch->clip==1.0) (9.1.0.70)\n",
            "Requirement already satisfied: nvidia-cublas-cu12==12.4.5.8 in /usr/local/lib/python3.11/dist-packages (from torch->clip==1.0) (12.4.5.8)\n",
            "Requirement already satisfied: nvidia-cufft-cu12==11.2.1.3 in /usr/local/lib/python3.11/dist-packages (from torch->clip==1.0) (11.2.1.3)\n",
            "Requirement already satisfied: nvidia-curand-cu12==10.3.5.147 in /usr/local/lib/python3.11/dist-packages (from torch->clip==1.0) (10.3.5.147)\n",
            "Requirement already satisfied: nvidia-cusolver-cu12==11.6.1.9 in /usr/local/lib/python3.11/dist-packages (from torch->clip==1.0) (11.6.1.9)\n",
            "Requirement already satisfied: nvidia-cusparse-cu12==12.3.1.170 in /usr/local/lib/python3.11/dist-packages (from torch->clip==1.0) (12.3.1.170)\n",
            "Requirement already satisfied: nvidia-nccl-cu12==2.21.5 in /usr/local/lib/python3.11/dist-packages (from torch->clip==1.0) (2.21.5)\n",
            "Requirement already satisfied: nvidia-nvtx-cu12==12.4.127 in /usr/local/lib/python3.11/dist-packages (from torch->clip==1.0) (12.4.127)\n",
            "Requirement already satisfied: nvidia-nvjitlink-cu12==12.4.127 in /usr/local/lib/python3.11/dist-packages (from torch->clip==1.0) (12.4.127)\n",
            "Requirement already satisfied: triton==3.1.0 in /usr/local/lib/python3.11/dist-packages (from torch->clip==1.0) (3.1.0)\n",
            "Requirement already satisfied: sympy==1.13.1 in /usr/local/lib/python3.11/dist-packages (from torch->clip==1.0) (1.13.1)\n",
            "Requirement already satisfied: mpmath<1.4,>=1.1.0 in /usr/local/lib/python3.11/dist-packages (from sympy==1.13.1->torch->clip==1.0) (1.3.0)\n",
            "Requirement already satisfied: numpy in /usr/local/lib/python3.11/dist-packages (from torchvision->clip==1.0) (1.26.4)\n",
            "Requirement already satisfied: pillow!=8.3.*,>=5.3.0 in /usr/local/lib/python3.11/dist-packages (from torchvision->clip==1.0) (11.1.0)\n",
            "Requirement already satisfied: MarkupSafe>=2.0 in /usr/local/lib/python3.11/dist-packages (from jinja2->torch->clip==1.0) (3.0.2)\n",
            "Requirement already satisfied: hpsv2 in /usr/local/lib/python3.11/dist-packages (1.2.0)\n",
            "Requirement already satisfied: torch>=1.9.0 in /usr/local/lib/python3.11/dist-packages (from hpsv2) (2.5.1+cu124)\n",
            "Requirement already satisfied: torchvision in /usr/local/lib/python3.11/dist-packages (from hpsv2) (0.20.1+cu124)\n",
            "Requirement already satisfied: regex in /usr/local/lib/python3.11/dist-packages (from hpsv2) (2024.11.6)\n",
            "Requirement already satisfied: ftfy in /usr/local/lib/python3.11/dist-packages (from hpsv2) (6.3.1)\n",
            "Requirement already satisfied: einops in /usr/local/lib/python3.11/dist-packages (from hpsv2) (0.8.1)\n",
            "Requirement already satisfied: pandas in /usr/local/lib/python3.11/dist-packages (from hpsv2) (2.2.2)\n",
            "Requirement already satisfied: braceexpand in /usr/local/lib/python3.11/dist-packages (from hpsv2) (0.1.7)\n",
            "Requirement already satisfied: fsspec in /usr/local/lib/python3.11/dist-packages (from hpsv2) (2024.10.0)\n",
            "Requirement already satisfied: tqdm in /usr/local/lib/python3.11/dist-packages (from hpsv2) (4.67.1)\n",
            "Requirement already satisfied: huggingface-hub in /usr/local/lib/python3.11/dist-packages (from hpsv2) (0.28.1)\n",
            "Requirement already satisfied: sentencepiece in /usr/local/lib/python3.11/dist-packages (from hpsv2) (0.2.0)\n",
            "Requirement already satisfied: protobuf<4 in /usr/local/lib/python3.11/dist-packages (from hpsv2) (3.20.3)\n",
            "Requirement already satisfied: timm in /usr/local/lib/python3.11/dist-packages (from hpsv2) (1.0.15)\n",
            "Requirement already satisfied: transformers in /usr/local/lib/python3.11/dist-packages (from hpsv2) (4.48.3)\n",
            "Requirement already satisfied: webdataset in /usr/local/lib/python3.11/dist-packages (from hpsv2) (0.2.111)\n",
            "Requirement already satisfied: pyarrow in /usr/local/lib/python3.11/dist-packages (from hpsv2) (18.1.0)\n",
            "Requirement already satisfied: pytest-split==0.8.0 in /usr/local/lib/python3.11/dist-packages (from hpsv2) (0.8.0)\n",
            "Requirement already satisfied: pytest==7.2.0 in /usr/local/lib/python3.11/dist-packages (from hpsv2) (7.2.0)\n",
            "Requirement already satisfied: requests in /usr/local/lib/python3.11/dist-packages (from hpsv2) (2.25.1)\n",
            "Requirement already satisfied: clint in /usr/local/lib/python3.11/dist-packages (from hpsv2) (0.5.1)\n",
            "Requirement already satisfied: attrs>=19.2.0 in /usr/local/lib/python3.11/dist-packages (from pytest==7.2.0->hpsv2) (25.1.0)\n",
            "Requirement already satisfied: iniconfig in /usr/local/lib/python3.11/dist-packages (from pytest==7.2.0->hpsv2) (2.0.0)\n",
            "Requirement already satisfied: packaging in /usr/local/lib/python3.11/dist-packages (from pytest==7.2.0->hpsv2) (24.2)\n",
            "Requirement already satisfied: pluggy<2.0,>=0.12 in /usr/local/lib/python3.11/dist-packages (from pytest==7.2.0->hpsv2) (1.5.0)\n",
            "Requirement already satisfied: filelock in /usr/local/lib/python3.11/dist-packages (from torch>=1.9.0->hpsv2) (3.17.0)\n",
            "Requirement already satisfied: typing-extensions>=4.8.0 in /usr/local/lib/python3.11/dist-packages (from torch>=1.9.0->hpsv2) (4.12.2)\n",
            "Requirement already satisfied: networkx in /usr/local/lib/python3.11/dist-packages (from torch>=1.9.0->hpsv2) (3.4.2)\n",
            "Requirement already satisfied: jinja2 in /usr/local/lib/python3.11/dist-packages (from torch>=1.9.0->hpsv2) (3.1.5)\n",
            "Requirement already satisfied: nvidia-cuda-nvrtc-cu12==12.4.127 in /usr/local/lib/python3.11/dist-packages (from torch>=1.9.0->hpsv2) (12.4.127)\n",
            "Requirement already satisfied: nvidia-cuda-runtime-cu12==12.4.127 in /usr/local/lib/python3.11/dist-packages (from torch>=1.9.0->hpsv2) (12.4.127)\n",
            "Requirement already satisfied: nvidia-cuda-cupti-cu12==12.4.127 in /usr/local/lib/python3.11/dist-packages (from torch>=1.9.0->hpsv2) (12.4.127)\n",
            "Requirement already satisfied: nvidia-cudnn-cu12==9.1.0.70 in /usr/local/lib/python3.11/dist-packages (from torch>=1.9.0->hpsv2) (9.1.0.70)\n",
            "Requirement already satisfied: nvidia-cublas-cu12==12.4.5.8 in /usr/local/lib/python3.11/dist-packages (from torch>=1.9.0->hpsv2) (12.4.5.8)\n",
            "Requirement already satisfied: nvidia-cufft-cu12==11.2.1.3 in /usr/local/lib/python3.11/dist-packages (from torch>=1.9.0->hpsv2) (11.2.1.3)\n",
            "Requirement already satisfied: nvidia-curand-cu12==10.3.5.147 in /usr/local/lib/python3.11/dist-packages (from torch>=1.9.0->hpsv2) (10.3.5.147)\n",
            "Requirement already satisfied: nvidia-cusolver-cu12==11.6.1.9 in /usr/local/lib/python3.11/dist-packages (from torch>=1.9.0->hpsv2) (11.6.1.9)\n",
            "Requirement already satisfied: nvidia-cusparse-cu12==12.3.1.170 in /usr/local/lib/python3.11/dist-packages (from torch>=1.9.0->hpsv2) (12.3.1.170)\n",
            "Requirement already satisfied: nvidia-nccl-cu12==2.21.5 in /usr/local/lib/python3.11/dist-packages (from torch>=1.9.0->hpsv2) (2.21.5)\n",
            "Requirement already satisfied: nvidia-nvtx-cu12==12.4.127 in /usr/local/lib/python3.11/dist-packages (from torch>=1.9.0->hpsv2) (12.4.127)\n",
            "Requirement already satisfied: nvidia-nvjitlink-cu12==12.4.127 in /usr/local/lib/python3.11/dist-packages (from torch>=1.9.0->hpsv2) (12.4.127)\n",
            "Requirement already satisfied: triton==3.1.0 in /usr/local/lib/python3.11/dist-packages (from torch>=1.9.0->hpsv2) (3.1.0)\n",
            "Requirement already satisfied: sympy==1.13.1 in /usr/local/lib/python3.11/dist-packages (from torch>=1.9.0->hpsv2) (1.13.1)\n",
            "Requirement already satisfied: mpmath<1.4,>=1.1.0 in /usr/local/lib/python3.11/dist-packages (from sympy==1.13.1->torch>=1.9.0->hpsv2) (1.3.0)\n",
            "Requirement already satisfied: args in /usr/local/lib/python3.11/dist-packages (from clint->hpsv2) (0.1.0)\n",
            "Requirement already satisfied: wcwidth in /usr/local/lib/python3.11/dist-packages (from ftfy->hpsv2) (0.2.13)\n",
            "Requirement already satisfied: pyyaml>=5.1 in /usr/local/lib/python3.11/dist-packages (from huggingface-hub->hpsv2) (6.0.2)\n",
            "Requirement already satisfied: numpy>=1.23.2 in /usr/local/lib/python3.11/dist-packages (from pandas->hpsv2) (1.26.4)\n",
            "Requirement already satisfied: python-dateutil>=2.8.2 in /usr/local/lib/python3.11/dist-packages (from pandas->hpsv2) (2.8.2)\n",
            "Requirement already satisfied: pytz>=2020.1 in /usr/local/lib/python3.11/dist-packages (from pandas->hpsv2) (2025.1)\n",
            "Requirement already satisfied: tzdata>=2022.7 in /usr/local/lib/python3.11/dist-packages (from pandas->hpsv2) (2025.1)\n",
            "Requirement already satisfied: chardet<5,>=3.0.2 in /usr/local/lib/python3.11/dist-packages (from requests->hpsv2) (4.0.0)\n",
            "Requirement already satisfied: idna<3,>=2.5 in /usr/local/lib/python3.11/dist-packages (from requests->hpsv2) (2.10)\n",
            "Requirement already satisfied: urllib3<1.27,>=1.21.1 in /usr/local/lib/python3.11/dist-packages (from requests->hpsv2) (1.26.20)\n",
            "Requirement already satisfied: certifi>=2017.4.17 in /usr/local/lib/python3.11/dist-packages (from requests->hpsv2) (2025.1.31)\n",
            "Requirement already satisfied: safetensors in /usr/local/lib/python3.11/dist-packages (from timm->hpsv2) (0.5.3)\n",
            "Requirement already satisfied: pillow!=8.3.*,>=5.3.0 in /usr/local/lib/python3.11/dist-packages (from torchvision->hpsv2) (11.1.0)\n",
            "Requirement already satisfied: tokenizers<0.22,>=0.21 in /usr/local/lib/python3.11/dist-packages (from transformers->hpsv2) (0.21.0)\n",
            "Requirement already satisfied: six>=1.5 in /usr/local/lib/python3.11/dist-packages (from python-dateutil>=2.8.2->pandas->hpsv2) (1.17.0)\n",
            "Requirement already satisfied: MarkupSafe>=2.0 in /usr/local/lib/python3.11/dist-packages (from jinja2->torch>=1.9.0->hpsv2) (3.0.2)\n",
            "Requirement already satisfied: diffusers in /usr/local/lib/python3.11/dist-packages (0.32.2)\n",
            "Requirement already satisfied: importlib-metadata in /usr/local/lib/python3.11/dist-packages (from diffusers) (8.6.1)\n",
            "Requirement already satisfied: filelock in /usr/local/lib/python3.11/dist-packages (from diffusers) (3.17.0)\n",
            "Requirement already satisfied: huggingface-hub>=0.23.2 in /usr/local/lib/python3.11/dist-packages (from diffusers) (0.28.1)\n",
            "Requirement already satisfied: numpy in /usr/local/lib/python3.11/dist-packages (from diffusers) (1.26.4)\n",
            "Requirement already satisfied: regex!=2019.12.17 in /usr/local/lib/python3.11/dist-packages (from diffusers) (2024.11.6)\n",
            "Requirement already satisfied: requests in /usr/local/lib/python3.11/dist-packages (from diffusers) (2.25.1)\n",
            "Requirement already satisfied: safetensors>=0.3.1 in /usr/local/lib/python3.11/dist-packages (from diffusers) (0.5.3)\n",
            "Requirement already satisfied: Pillow in /usr/local/lib/python3.11/dist-packages (from diffusers) (11.1.0)\n",
            "Requirement already satisfied: fsspec>=2023.5.0 in /usr/local/lib/python3.11/dist-packages (from huggingface-hub>=0.23.2->diffusers) (2024.10.0)\n",
            "Requirement already satisfied: packaging>=20.9 in /usr/local/lib/python3.11/dist-packages (from huggingface-hub>=0.23.2->diffusers) (24.2)\n",
            "Requirement already satisfied: pyyaml>=5.1 in /usr/local/lib/python3.11/dist-packages (from huggingface-hub>=0.23.2->diffusers) (6.0.2)\n",
            "Requirement already satisfied: tqdm>=4.42.1 in /usr/local/lib/python3.11/dist-packages (from huggingface-hub>=0.23.2->diffusers) (4.67.1)\n",
            "Requirement already satisfied: typing-extensions>=3.7.4.3 in /usr/local/lib/python3.11/dist-packages (from huggingface-hub>=0.23.2->diffusers) (4.12.2)\n",
            "Requirement already satisfied: zipp>=3.20 in /usr/local/lib/python3.11/dist-packages (from importlib-metadata->diffusers) (3.21.0)\n",
            "Requirement already satisfied: chardet<5,>=3.0.2 in /usr/local/lib/python3.11/dist-packages (from requests->diffusers) (4.0.0)\n",
            "Requirement already satisfied: idna<3,>=2.5 in /usr/local/lib/python3.11/dist-packages (from requests->diffusers) (2.10)\n",
            "Requirement already satisfied: urllib3<1.27,>=1.21.1 in /usr/local/lib/python3.11/dist-packages (from requests->diffusers) (1.26.20)\n",
            "Requirement already satisfied: certifi>=2017.4.17 in /usr/local/lib/python3.11/dist-packages (from requests->diffusers) (2025.1.31)\n",
            "Requirement already satisfied: torchattacks in /usr/local/lib/python3.11/dist-packages (3.5.1)\n",
            "Requirement already satisfied: torch>=1.7.1 in /usr/local/lib/python3.11/dist-packages (from torchattacks) (2.5.1+cu124)\n",
            "Requirement already satisfied: torchvision>=0.8.2 in /usr/local/lib/python3.11/dist-packages (from torchattacks) (0.20.1+cu124)\n",
            "Requirement already satisfied: scipy>=0.14.0 in /usr/local/lib/python3.11/dist-packages (from torchattacks) (1.13.1)\n",
            "Requirement already satisfied: tqdm>=4.56.1 in /usr/local/lib/python3.11/dist-packages (from torchattacks) (4.67.1)\n",
            "Requirement already satisfied: requests~=2.25.1 in /usr/local/lib/python3.11/dist-packages (from torchattacks) (2.25.1)\n",
            "Requirement already satisfied: numpy>=1.19.4 in /usr/local/lib/python3.11/dist-packages (from torchattacks) (1.26.4)\n",
            "Requirement already satisfied: chardet<5,>=3.0.2 in /usr/local/lib/python3.11/dist-packages (from requests~=2.25.1->torchattacks) (4.0.0)\n",
            "Requirement already satisfied: idna<3,>=2.5 in /usr/local/lib/python3.11/dist-packages (from requests~=2.25.1->torchattacks) (2.10)\n",
            "Requirement already satisfied: urllib3<1.27,>=1.21.1 in /usr/local/lib/python3.11/dist-packages (from requests~=2.25.1->torchattacks) (1.26.20)\n",
            "Requirement already satisfied: certifi>=2017.4.17 in /usr/local/lib/python3.11/dist-packages (from requests~=2.25.1->torchattacks) (2025.1.31)\n",
            "Requirement already satisfied: filelock in /usr/local/lib/python3.11/dist-packages (from torch>=1.7.1->torchattacks) (3.17.0)\n",
            "Requirement already satisfied: typing-extensions>=4.8.0 in /usr/local/lib/python3.11/dist-packages (from torch>=1.7.1->torchattacks) (4.12.2)\n",
            "Requirement already satisfied: networkx in /usr/local/lib/python3.11/dist-packages (from torch>=1.7.1->torchattacks) (3.4.2)\n",
            "Requirement already satisfied: jinja2 in /usr/local/lib/python3.11/dist-packages (from torch>=1.7.1->torchattacks) (3.1.5)\n",
            "Requirement already satisfied: fsspec in /usr/local/lib/python3.11/dist-packages (from torch>=1.7.1->torchattacks) (2024.10.0)\n",
            "Requirement already satisfied: nvidia-cuda-nvrtc-cu12==12.4.127 in /usr/local/lib/python3.11/dist-packages (from torch>=1.7.1->torchattacks) (12.4.127)\n",
            "Requirement already satisfied: nvidia-cuda-runtime-cu12==12.4.127 in /usr/local/lib/python3.11/dist-packages (from torch>=1.7.1->torchattacks) (12.4.127)\n",
            "Requirement already satisfied: nvidia-cuda-cupti-cu12==12.4.127 in /usr/local/lib/python3.11/dist-packages (from torch>=1.7.1->torchattacks) (12.4.127)\n",
            "Requirement already satisfied: nvidia-cudnn-cu12==9.1.0.70 in /usr/local/lib/python3.11/dist-packages (from torch>=1.7.1->torchattacks) (9.1.0.70)\n",
            "Requirement already satisfied: nvidia-cublas-cu12==12.4.5.8 in /usr/local/lib/python3.11/dist-packages (from torch>=1.7.1->torchattacks) (12.4.5.8)\n",
            "Requirement already satisfied: nvidia-cufft-cu12==11.2.1.3 in /usr/local/lib/python3.11/dist-packages (from torch>=1.7.1->torchattacks) (11.2.1.3)\n",
            "Requirement already satisfied: nvidia-curand-cu12==10.3.5.147 in /usr/local/lib/python3.11/dist-packages (from torch>=1.7.1->torchattacks) (10.3.5.147)\n",
            "Requirement already satisfied: nvidia-cusolver-cu12==11.6.1.9 in /usr/local/lib/python3.11/dist-packages (from torch>=1.7.1->torchattacks) (11.6.1.9)\n",
            "Requirement already satisfied: nvidia-cusparse-cu12==12.3.1.170 in /usr/local/lib/python3.11/dist-packages (from torch>=1.7.1->torchattacks) (12.3.1.170)\n",
            "Requirement already satisfied: nvidia-nccl-cu12==2.21.5 in /usr/local/lib/python3.11/dist-packages (from torch>=1.7.1->torchattacks) (2.21.5)\n",
            "Requirement already satisfied: nvidia-nvtx-cu12==12.4.127 in /usr/local/lib/python3.11/dist-packages (from torch>=1.7.1->torchattacks) (12.4.127)\n",
            "Requirement already satisfied: nvidia-nvjitlink-cu12==12.4.127 in /usr/local/lib/python3.11/dist-packages (from torch>=1.7.1->torchattacks) (12.4.127)\n",
            "Requirement already satisfied: triton==3.1.0 in /usr/local/lib/python3.11/dist-packages (from torch>=1.7.1->torchattacks) (3.1.0)\n",
            "Requirement already satisfied: sympy==1.13.1 in /usr/local/lib/python3.11/dist-packages (from torch>=1.7.1->torchattacks) (1.13.1)\n",
            "Requirement already satisfied: mpmath<1.4,>=1.1.0 in /usr/local/lib/python3.11/dist-packages (from sympy==1.13.1->torch>=1.7.1->torchattacks) (1.3.0)\n",
            "Requirement already satisfied: pillow!=8.3.*,>=5.3.0 in /usr/local/lib/python3.11/dist-packages (from torchvision>=0.8.2->torchattacks) (11.1.0)\n",
            "Requirement already satisfied: MarkupSafe>=2.0 in /usr/local/lib/python3.11/dist-packages (from jinja2->torch>=1.7.1->torchattacks) (3.0.2)\n"
          ]
        }
      ],
      "source": [
        "# HPS dependencies\n",
        "! pip install ftfy regex tqdm\n",
        "! pip install git+https://github.com/openai/CLIP.git\n",
        "! pip install hpsv2\n",
        "\n",
        "# Stable Diffusion dependencies\n",
        "! pip install diffusers\n",
        "\n",
        "# Adversarial attack dependencies\n",
        "! pip install torchattacks"
      ]
    },
    {
      "cell_type": "code",
      "execution_count": 2,
      "metadata": {
        "colab": {
          "base_uri": "https://localhost:8080/"
        },
        "id": "NJrLntGwVr1U",
        "outputId": "91f964f0-9884-456e-d9ca-3598c9d8015b"
      },
      "outputs": [
        {
          "output_type": "stream",
          "name": "stdout",
          "text": [
            "--2025-03-09 13:00:41--  https://github.com/openai/CLIP/raw/main/clip/bpe_simple_vocab_16e6.txt.gz\n",
            "Resolving github.com (github.com)... 140.82.116.3\n",
            "Connecting to github.com (github.com)|140.82.116.3|:443... connected.\n",
            "HTTP request sent, awaiting response... 302 Found\n",
            "Location: https://raw.githubusercontent.com/openai/CLIP/main/clip/bpe_simple_vocab_16e6.txt.gz [following]\n",
            "--2025-03-09 13:00:41--  https://raw.githubusercontent.com/openai/CLIP/main/clip/bpe_simple_vocab_16e6.txt.gz\n",
            "Resolving raw.githubusercontent.com (raw.githubusercontent.com)... 185.199.108.133, 185.199.109.133, 185.199.110.133, ...\n",
            "Connecting to raw.githubusercontent.com (raw.githubusercontent.com)|185.199.108.133|:443... connected.\n",
            "HTTP request sent, awaiting response... 200 OK\n",
            "Length: 1356917 (1.3M) [application/octet-stream]\n",
            "Saving to: ‘/usr/local/lib/python3.11/dist-packages/hpsv2/src/open_clip/bpe_simple_vocab_16e6.txt.gz.6’\n",
            "\n",
            "bpe_simple_vocab_16 100%[===================>]   1.29M  --.-KB/s    in 0.04s   \n",
            "\n",
            "2025-03-09 13:00:41 (35.9 MB/s) - ‘/usr/local/lib/python3.11/dist-packages/hpsv2/src/open_clip/bpe_simple_vocab_16e6.txt.gz.6’ saved [1356917/1356917]\n",
            "\n"
          ]
        }
      ],
      "source": [
        "!mkdir -p clip && wget https://github.com/openai/CLIP/raw/main/clip/bpe_simple_vocab_16e6.txt.gz -P /usr/local/lib/python3.11/dist-packages/hpsv2/src/open_clip"
      ]
    },
    {
      "cell_type": "markdown",
      "source": [],
      "metadata": {
        "id": "B1nqX-8HEsUH"
      }
    },
    {
      "cell_type": "markdown",
      "metadata": {
        "id": "9tTOq5ns8eSs"
      },
      "source": [
        "2. Imports"
      ]
    },
    {
      "cell_type": "code",
      "execution_count": 3,
      "metadata": {
        "colab": {
          "base_uri": "https://localhost:8080/"
        },
        "id": "mBkPPyEw8fNB",
        "outputId": "4c90cbf6-8746-4a5d-9e14-3cf594a13410"
      },
      "outputs": [
        {
          "output_type": "stream",
          "name": "stderr",
          "text": [
            "/usr/local/lib/python3.11/dist-packages/timm/models/layers/__init__.py:48: FutureWarning: Importing from timm.models.layers is deprecated, please import via timm.layers\n",
            "  warnings.warn(f\"Importing from {__name__} is deprecated, please import via timm.layers\", FutureWarning)\n"
          ]
        }
      ],
      "source": [
        "import os\n",
        "import re\n",
        "import gc\n",
        "import ast\n",
        "from datetime import datetime\n",
        "import random\n",
        "import argparse\n",
        "from tqdm import tqdm\n",
        "from google.colab import drive\n",
        "from collections import OrderedDict\n",
        "\n",
        "from abc import ABC, abstractmethod\n",
        "from typing import Union, List, Dict, Tuple, Optional\n",
        "\n",
        "import numpy as np\n",
        "import pandas as pd\n",
        "import torch\n",
        "import torchvision.transforms as T\n",
        "from torch.utils.data import Dataset, DataLoader\n",
        "from torchvision import transforms\n",
        "\n",
        "from diffusers import DiffusionPipeline, StableDiffusionPipeline, StableDiffusion3Pipeline\n",
        "\n",
        "import clip\n",
        "import hpsv2\n",
        "from hpsv2.src.open_clip import create_model_and_transforms, get_tokenizer\n",
        "import PIL\n",
        "from PIL import Image\n",
        "\n",
        "from torchattacks.attack import Attack, wrapper_method"
      ]
    },
    {
      "cell_type": "markdown",
      "metadata": {
        "id": "AEjuf1ym7e3r"
      },
      "source": [
        "3. Connect to Google Drive"
      ]
    },
    {
      "cell_type": "code",
      "execution_count": 4,
      "metadata": {
        "id": "6a3bh3De8hV0",
        "colab": {
          "base_uri": "https://localhost:8080/"
        },
        "outputId": "a2c66ef6-98b3-41a6-dc88-6aa0f5194059"
      },
      "outputs": [
        {
          "output_type": "stream",
          "name": "stdout",
          "text": [
            "Mounted at /content/drive\n"
          ]
        }
      ],
      "source": [
        "drive.mount(\"/content/drive\",force_remount=True)\n",
        "os.chdir(\"/content/drive/My Drive\")"
      ]
    },
    {
      "cell_type": "markdown",
      "metadata": {
        "id": "YReKB8Hv7Uw6"
      },
      "source": [
        "4. Model Code"
      ]
    },
    {
      "cell_type": "code",
      "execution_count": 5,
      "metadata": {
        "id": "j02uLImH0ubF"
      },
      "outputs": [],
      "source": [
        "class ModelLoadingError(Exception):\n",
        "    \"\"\"Exception raised when there is an error loading the model.\"\"\"\n",
        "    pass\n",
        "\n",
        "class InferenceError(Exception):\n",
        "    \"\"\"Exception raised when an error occurs during inference.\"\"\"\n",
        "    pass"
      ]
    },
    {
      "cell_type": "code",
      "execution_count": 6,
      "metadata": {
        "id": "l1B1q8937Xw1"
      },
      "outputs": [],
      "source": [
        "class BaseModel(ABC):\n",
        "    @abstractmethod\n",
        "    def load_model(self):\n",
        "        \"\"\"\n",
        "        Load the open-weights model or make an API connection to the closed-source model.\n",
        "        \"\"\"\n",
        "        pass\n",
        "\n",
        "    @abstractmethod\n",
        "    def inference(\n",
        "        self, inputs: Union[List[str], torch.Tensor], captions: Optional[List[str]] = None\n",
        "    ) -> Union[torch.Tensor, List[float]]:\n",
        "        \"\"\"\n",
        "        Run inference on a batch of inputs with optional captions.\n",
        "\n",
        "        Args:\n",
        "            inputs (Union[List[str], torch.Tensor]): A batch of text prompts or a batch of images.\n",
        "            captions (Optional[List[str]]): Optional text captions associated with the inputs for reward models.\n",
        "\n",
        "        Returns:\n",
        "            Union[torch.Tensor, List[float]]: A batch of model outputs or a list of reward scores.\n",
        "        \"\"\"\n",
        "        pass"
      ]
    },
    {
      "cell_type": "code",
      "execution_count": 7,
      "metadata": {
        "id": "rUVTXwxc7Ybm"
      },
      "outputs": [],
      "source": [
        "class HPSv1Model(BaseModel):\n",
        "    def __init__(self, model_path: str):\n",
        "        \"\"\"\n",
        "        Args:\n",
        "            model_path (str): Path to the HPSv1 model checkpoint.\n",
        "        \"\"\"\n",
        "        self.device = \"cuda\" if torch.cuda.is_available() else \"cpu\"\n",
        "        self.model_path = model_path\n",
        "        self.load_model()\n",
        "\n",
        "    def load_model(self):\n",
        "        try:\n",
        "            self.model, self.preprocess_function = clip.load(\"ViT-L/14\", device=self.device)\n",
        "            checkpoint = torch.load(self.model_path)\n",
        "\n",
        "            if \"state_dict\" not in checkpoint:\n",
        "                raise ModelLoadingError(\"Checkpoint does not contain 'state_dict'.\")\n",
        "\n",
        "            self.model.load_state_dict(checkpoint[\"state_dict\"])\n",
        "            self.tokenizer = clip.tokenize\n",
        "            self.model.eval()\n",
        "\n",
        "        except FileNotFoundError as e:\n",
        "            raise ModelLoadingError(f\"Model checkpoint not found at '{self.model_path}'.\") from e\n",
        "        except Exception as e:\n",
        "            raise ModelLoadingError(f\"Error loading model: {e}\") from e\n",
        "\n",
        "    def inference(self, inputs: torch.Tensor, captions: Union[List[str], torch.Tensor]) -> List[float]:\n",
        "        \"\"\"\n",
        "        Runs inference on a batch of images and corresponding captions.\n",
        "        Returns a batch of reward scores.\n",
        "        \"\"\"\n",
        "        if not isinstance(inputs, torch.Tensor):\n",
        "            raise TypeError(\"Expected 'inputs' to be of type torch.Tensor (i.e. images).\")\n",
        "        if not (isinstance(captions, torch.Tensor) or (isinstance(captions, list) and all(isinstance(c, str) for c in captions))):\n",
        "            raise TypeError(\"Expected 'captions' to be either a torch.Tensor or a list of strings.\")\n",
        "        if inputs.shape[0] != len(captions):\n",
        "            raise ValueError(\"Number of 'inputs' and 'captions' must match.\")\n",
        "\n",
        "        try:\n",
        "            with torch.no_grad():\n",
        "                image_features = self.model.encode_image(inputs.to(self.device))\n",
        "\n",
        "                if not isinstance(captions, torch.Tensor):\n",
        "                    text_tokens = self.tokenizer(captions).to(self.device)\n",
        "                else:\n",
        "                    text_tokens = captions.to(self.device)\n",
        "                text_features = self.model.encode_text(text_tokens)\n",
        "\n",
        "                image_features = image_features / image_features.norm(dim=-1, keepdim=True)\n",
        "                text_features = text_features / text_features.norm(dim=-1, keepdim=True)\n",
        "\n",
        "                # Convert cosine similarity scores to percentages as in the original paper\n",
        "                similarity_scores = (image_features @ text_features.T).diag() * 100\n",
        "            return similarity_scores.tolist()\n",
        "        except Exception as e:\n",
        "            raise InferenceError(f\"Inference failed: {e}\") from e\n",
        "\n",
        "    def inference_with_grad(self, inputs: torch.Tensor, captions: List[str]) -> List[float]:\n",
        "        \"\"\"\n",
        "        Runs inference on a batch of images and corresponding captions.\n",
        "        Returns a batch of reward scores.\n",
        "        \"\"\"\n",
        "        if not isinstance(inputs, torch.Tensor):\n",
        "            raise TypeError(\"Expected 'inputs' to be of type torch.Tensor (i.e. images).\")\n",
        "        if not isinstance(captions, list) or not all(isinstance(c, str) for c in captions):\n",
        "            raise TypeError(\"Expected 'captions' to be a list of strings.\")\n",
        "        if inputs.shape[0] != len(captions):\n",
        "            raise ValueError(\"Number of 'inputs' and 'captions' must match.\")\n",
        "\n",
        "        try:\n",
        "            text_tokens = clip.tokenize(captions).to(self.device)\n",
        "            image_features, text_features = self.model(inputs, text_tokens)\n",
        "            return (image_features @ text_features.T).diag() * 100\n",
        "        except Exception as e:\n",
        "            raise InferenceError(f\"Inference failed: {e}\") from e"
      ]
    },
    {
      "cell_type": "code",
      "execution_count": 8,
      "metadata": {
        "id": "33IxgoCcTkQ5"
      },
      "outputs": [],
      "source": [
        "class HPSv2Model(BaseModel):\n",
        "    def __init__(self, model_path: str):\n",
        "        \"\"\"\n",
        "        Args:\n",
        "            model_path (str): Path to the HPSv2 model checkpoint.\n",
        "        \"\"\"\n",
        "        self.device = \"cuda\" if torch.cuda.is_available() else \"cpu\"\n",
        "        self.model_path = model_path\n",
        "        self.load_model()\n",
        "\n",
        "    def load_model(self):\n",
        "        try:\n",
        "            self.model, _, self.preprocess_function = create_model_and_transforms(\n",
        "                \"ViT-H-14\",\n",
        "                \"laion2B-s32B-b79K\",\n",
        "                precision=\"amp\",\n",
        "                device=self.device,\n",
        "                jit=False,\n",
        "                force_quick_gelu=False,\n",
        "                force_custom_text=False,\n",
        "                force_patch_dropout=False,\n",
        "                force_image_size=None,\n",
        "                pretrained_image=False,\n",
        "                image_mean=None,\n",
        "                image_std=None,\n",
        "                light_augmentation=True,\n",
        "                aug_cfg={},\n",
        "                output_dict=True,\n",
        "                with_score_predictor=False,\n",
        "                with_region_predictor=False\n",
        "            )\n",
        "\n",
        "            checkpoint = torch.load(self.model_path)\n",
        "            if \"state_dict\" not in checkpoint:\n",
        "                raise ModelLoadingError(\"Checkpoint does not contain 'state_dict'.\")\n",
        "\n",
        "            self.model.load_state_dict(checkpoint[\"state_dict\"])\n",
        "            self.tokenizer = get_tokenizer(\"ViT-H-14\")\n",
        "            self.model.eval()\n",
        "\n",
        "        except FileNotFoundError as e:\n",
        "            raise ModelLoadingError(f\"Model checkpoint not found at '{self.model_path}'.\") from e\n",
        "        except Exception as e:\n",
        "            raise ModelLoadingError(f\"Error loading model: {e}\") from e\n",
        "\n",
        "    def inference(self, inputs: torch.Tensor, captions: Union[List[str], torch.Tensor]) -> List[float]:\n",
        "        \"\"\"\n",
        "        Runs inference on a batch of images and corresponding captions.\n",
        "        Returns a batch of reward scores.\n",
        "        \"\"\"\n",
        "        if not isinstance(inputs, torch.Tensor):\n",
        "            raise TypeError(\"Expected 'inputs' to be a list of PIL.Image objects.\")\n",
        "        if not (isinstance(captions, torch.Tensor) or (isinstance(captions, list) and all(isinstance(c, str) for c in captions))):\n",
        "            raise TypeError(\"Expected 'captions' to be either a torch.Tensor or a list of strings.\")\n",
        "        if len(inputs) != len(captions):\n",
        "            raise ValueError(\"Number of 'inputs' and 'captions' must match.\")\n",
        "\n",
        "        try:\n",
        "            with torch.no_grad():\n",
        "                if not isinstance(captions, torch.Tensor):\n",
        "                    text_tokens = self.tokenizer(captions).to(self.device)\n",
        "                else:\n",
        "                    text_tokens = captions.to(self.device)\n",
        "                inputs = inputs.to(self.device)\n",
        "\n",
        "                with torch.cuda.amp.autocast():\n",
        "                    outputs = self.model(inputs, text_tokens)\n",
        "                    image_features, text_features = outputs[\"image_features\"], outputs[\"text_features\"]\n",
        "                    similarity_scores = (image_features @ text_features.T).diag() * 100\n",
        "                return similarity_scores.tolist()\n",
        "\n",
        "        except Exception as e:\n",
        "            raise InferenceError(f\"Inference failed: {e}\") from e\n",
        "\n",
        "\n",
        "    def inference_with_grad(self, inputs: torch.Tensor, captions: List[str]) -> List[float]:\n",
        "        \"\"\"\n",
        "        Runs inference on a batch of images and corresponding captions.\n",
        "        Returns a batch of reward scores.\n",
        "        \"\"\"\n",
        "        if not isinstance(inputs, torch.Tensor):\n",
        "            raise TypeError(\"Expected 'inputs' to be a list of PIL.Image objects.\")\n",
        "        if not isinstance(captions, list) or not all(isinstance(c, str) for c in captions):\n",
        "            raise TypeError(\"Expected 'captions' to be a list of strings.\")\n",
        "        if len(inputs) != len(captions):\n",
        "            raise ValueError(\"Number of 'inputs' and 'captions' must match.\")\n",
        "\n",
        "        try:\n",
        "            text_tokens = self.tokenizer(captions).to(self.device)\n",
        "            inputs = inputs.to(self.device)\n",
        "\n",
        "            with torch.cuda.amp.autocast():\n",
        "                outputs = self.model(inputs, text_tokens)\n",
        "                image_features, text_features = outputs[\"image_features\"], outputs[\"text_features\"]\n",
        "                return (image_features @ text_features.T).diag() * 100\n",
        "\n",
        "        except Exception as e:\n",
        "            raise InferenceError(f\"Inference failed: {e}\") from e"
      ]
    },
    {
      "cell_type": "code",
      "execution_count": 9,
      "metadata": {
        "id": "kVVBTkx4JaQf"
      },
      "outputs": [],
      "source": [
        "class BaseDiffusionModel(BaseModel):\n",
        "    def __init__(self, model_path: str, offload_to_cpu: bool = False, resolution: int = None, **kwargs):\n",
        "        \"\"\"\n",
        "        Args:\n",
        "            model_path (str): Path or repository ID of the diffusion model checkpoint.\n",
        "        \"\"\"\n",
        "        self.seed = 42\n",
        "\n",
        "        self.device = \"cuda\" if torch.cuda.is_available() else \"cpu\"\n",
        "        self.model_path = model_path\n",
        "        self.offload_to_cpu = offload_to_cpu\n",
        "        self.resolution = resolution\n",
        "        self.kwargs = kwargs\n",
        "\n",
        "        self.diffusion_pipeline = self._get_diffusion_pipeline()\n",
        "        self.load_model()\n",
        "\n",
        "    def _get_diffusion_pipeline(self):\n",
        "        \"\"\" Subclasses should override this to return the correct pipeline. \"\"\"\n",
        "        return DiffusionPipeline\n",
        "\n",
        "    def load_model(self):\n",
        "        try:\n",
        "            self.model = self.diffusion_pipeline.from_pretrained(\n",
        "                self.model_path,\n",
        "                **self.kwargs\n",
        "            ).to(self.device)\n",
        "            if self.offload_to_cpu:\n",
        "                self.model.enable_model_cpu_offload()\n",
        "\n",
        "        except MemoryError as e:\n",
        "            if hasattr(self, \"model\"):\n",
        "                del self.model\n",
        "                torch.cuda.empty_cache()\n",
        "            raise ModelLoadingError(f\"Memory error occurred while loading the model. Consider using a smaller model: {e}\")\n",
        "        except FileNotFoundError as e:\n",
        "            raise ModelLoadingError(f\"Model checkpoint not found at '{self.model_path}'.\") from e\n",
        "        except Exception as e:\n",
        "            raise ModelLoadingError(f\"Failed to load diffusion model: {e}\") from e\n",
        "\n",
        "    def inference(\n",
        "        self, inputs: List[str], captions: Optional[List[str]] = None\n",
        "    ):\n",
        "        \"\"\"\n",
        "        Runs inference on a batch of prompts.\n",
        "        Returns a batch of images corresponding to the prompts.\n",
        "        \"\"\"\n",
        "        if not isinstance(inputs, list) or not all(isinstance(c, str) for c in inputs):\n",
        "            raise TypeError(\"Expected 'inputs' to be a list of strings.\")\n",
        "\n",
        "        try:\n",
        "            # Create one generator per prompt to ensure reproducibility\n",
        "            generators = [\n",
        "                torch.Generator(self.device).manual_seed(self.seed) for _ in range(len(inputs))\n",
        "            ]\n",
        "            if self.resolution:\n",
        "                images = self.model(\n",
        "                    prompt=inputs, generator=generators,\n",
        "                    height=self.resolution, width=self.resolution # use 1:1 aspect ratio\n",
        "                ).images\n",
        "                return images\n",
        "            else:\n",
        "                images = self.model(\n",
        "                    prompt=inputs, generator=generators,\n",
        "                ).images\n",
        "                return images\n",
        "\n",
        "        except Exception as e:\n",
        "            raise InferenceError(f\"Inference failed: {e}\")"
      ]
    },
    {
      "cell_type": "code",
      "execution_count": 10,
      "metadata": {
        "id": "QII1xUW_Dv7d"
      },
      "outputs": [],
      "source": [
        "class StableDiffusionModel(BaseDiffusionModel):\n",
        "    def __init__(self, model_path: str, offload_to_cpu: bool = False, resolution: int = None, **kwargs):\n",
        "        \"\"\"\n",
        "        Note:\n",
        "            model_path (str): Path to the Stable Diffusion model.\n",
        "                              Must include 'stable-diffusion-1', 'stable-diffusion-2', or 'stable-diffusion-3' after '<repo-owner>/'\n",
        "                              for simplicity.\n",
        "        \"\"\"\n",
        "\n",
        "        # Load the model with float16 precision.\n",
        "        # If your GPU supports torch.bfloat16 for lower memory usage with similar precision to FP32,\n",
        "        # consider switching the torch_dtype accordingly.\n",
        "        if \"torch_dtype\" not in kwargs:\n",
        "            kwargs[\"torch_dtype\"] = torch.float16\n",
        "        super().__init__(model_path, offload_to_cpu, resolution, **kwargs)\n",
        "\n",
        "    def _get_diffusion_pipeline(self):\n",
        "        version_tag = self.model_path.split(\"/\")[-1].lower()\n",
        "\n",
        "        if re.search(r'(stable-diffusion-?(v-?|v)?1(?:-\\d+)?)(.*)?$', version_tag):\n",
        "            return StableDiffusionPipeline\n",
        "        elif re.search(r'(stable-diffusion-?(v-?|v)?2(?:-\\d+)?)(.*)?$', version_tag):\n",
        "            return DiffusionPipeline\n",
        "        elif re.search(r'(stable-diffusion-?(v-?|v)?3(?:-\\d+)?)(.*)?$', version_tag):\n",
        "            return StableDiffusion3Pipeline\n",
        "        else:\n",
        "            raise ValueError(\n",
        "                \"Model path must match 'stable-diffusion-1', 'stable-diffusion-v1', 'stable-diffusion-v-1', \"\n",
        "                \"'stable-diffusion-2', 'stable-diffusion-v2', etc.\"\n",
        "            )"
      ]
    },
    {
      "cell_type": "code",
      "execution_count": 11,
      "metadata": {
        "id": "ehIBzLG_ieeG"
      },
      "outputs": [],
      "source": [
        "class ModelFactory:\n",
        "    @staticmethod\n",
        "    def create_model(\n",
        "        model_type: str, model_path: str,\n",
        "        **kwargs,\n",
        "    ) -> BaseModel:\n",
        "        \"\"\"\n",
        "        Creates and returns an instance of a model subclass based on the model_type.\n",
        "\n",
        "        Args:\n",
        "            model_type (str): The type of model to create. Supported values are:\n",
        "                - \"hpsv1\": For HPSv1 reward models.\n",
        "                - \"hpsv2\": For HPSv2 reward models.\n",
        "                - \"sd\": For stable diffusion text-to-image models.\n",
        "            model_path (str): The path or repository ID of the model checkpoint.\n",
        "\n",
        "        Returns:\n",
        "            BaseModel: An instance of the requested model.\n",
        "\n",
        "        Raises:\n",
        "            ValueError: If an unsupported model_type is provided.\n",
        "        \"\"\"\n",
        "        if model_type == \"hpsv1\":\n",
        "            return HPSv1Model(model_path)\n",
        "        elif model_type == \"hpsv2\":\n",
        "            return HPSv2Model(model_path)\n",
        "        elif model_type == \"sd\":\n",
        "            return StableDiffusionModel(model_path, **kwargs)\n",
        "        else:\n",
        "            raise ValueError(\"Unsupported model type. Use 'sd' for stable diffusion models or 'hps' for HPS models.\")"
      ]
    },
    {
      "cell_type": "markdown",
      "metadata": {
        "id": "vxzEzwrVfOyd"
      },
      "source": [
        "5. Define Arguments and Utils"
      ]
    },
    {
      "cell_type": "code",
      "execution_count": 12,
      "metadata": {
        "id": "2e5ywfpbgWdI"
      },
      "outputs": [],
      "source": [
        "def check_reward_model(value):\n",
        "    valid_versions = [\"v1.0\", \"v2.0\"]\n",
        "    if value not in valid_versions:\n",
        "        raise argparse.ArgumentTypeError(\n",
        "            \"reward_model_name must be one of: 'v1.0', 'v2.0'.\")\n",
        "    return value\n",
        "\n",
        "def parse_transfer_test_args():\n",
        "    parser = argparse.ArgumentParser(\n",
        "        description=\"Argument partser for attack process.\"\n",
        "    )\n",
        "\n",
        "    # Models group\n",
        "    models = parser.add_argument_group(\"models\")\n",
        "    models.add_argument(\"--reward_model_name\", type=check_reward_model, required=True,\n",
        "                        help=\"HPS reward model version: v1.0, v2.0\")\n",
        "\n",
        "    # Misc group\n",
        "    misc = parser.add_argument_group(\"misc\")\n",
        "    misc.add_argument(\"--original_images_path\", type=str, required=True,\n",
        "                        help=\"Path where original images are stored\")\n",
        "    misc.add_argument(\"--adversarial_images_path\", type=str, required=True,\n",
        "                        help=\"Path where adversarial images are stored\")\n",
        "\n",
        "    args = parser.parse_args()\n",
        "    return args"
      ]
    },
    {
      "cell_type": "code",
      "execution_count": 13,
      "metadata": {
        "id": "3GkIDFImQNf7"
      },
      "outputs": [],
      "source": [
        "def compute_reward_statistics(top_k_prompts, adv_rewards):\n",
        "    \"\"\"\n",
        "    Compute reward statistics using both the original rewards from top_k_prompts\n",
        "    and the adversarial rewards in adv_rewards.\n",
        "\n",
        "    Parameters:\n",
        "        top_k_prompts (list): List of tuples (category, prompt, original_reward, image)\n",
        "        adv_rewards (list): List of adversarial rewards corresponding to each prompt.\n",
        "    \"\"\"\n",
        "    if not top_k_prompts or not adv_rewards:\n",
        "        return {\n",
        "            \"average_original\": 0.0,\n",
        "            \"average_adversarial\": 0.0,\n",
        "            \"per_category_original\": {},\n",
        "            \"per_category_adversarial\": {}\n",
        "        }\n",
        "\n",
        "    original_rewards = [entry[2] for entry in top_k_prompts]\n",
        "    avg_original = sum(original_rewards) / len(original_rewards)\n",
        "    avg_adv = sum(adv_rewards) / len(adv_rewards)\n",
        "\n",
        "    per_category_orig = {}\n",
        "    per_category_adv = {}\n",
        "\n",
        "    for (cat, _, orig_reward, _), adv_reward in zip(top_k_prompts, adv_rewards):\n",
        "        per_category_orig.setdefault(cat, []).append(orig_reward)\n",
        "        per_category_adv.setdefault(cat, []).append(adv_reward)\n",
        "\n",
        "    per_category_orig_avg = {cat: sum(scores) / len(scores) for cat, scores in per_category_orig.items()}\n",
        "    per_category_adv_avg = {cat: sum(scores) / len(scores) for cat, scores in per_category_adv.items()}\n",
        "\n",
        "    return {\n",
        "        \"average_original\": avg_original,\n",
        "        \"average_adversarial\": avg_adv,\n",
        "        \"per_category_original\": per_category_orig_avg,\n",
        "        \"per_category_adversarial\": per_category_adv_avg\n",
        "    }"
      ]
    },
    {
      "cell_type": "code",
      "execution_count": 14,
      "metadata": {
        "id": "PAMY0Fwuhbt5"
      },
      "outputs": [],
      "source": [
        "def clear_cuda_memory_and_force_gc(force: bool = False):\n",
        "    \"\"\"\n",
        "    Clears the CUDA memory cache and forces garbage collection if the allocated memory\n",
        "    exceeds a certain threshold or if explicitly forced.\n",
        "\n",
        "    Args:\n",
        "        force (bool): If True, CUDA cache will be cleared and garbage collection\n",
        "                      will be forced regardless of the memory threshold.\n",
        "    \"\"\"\n",
        "\n",
        "    memory_allocated = torch.cuda.max_memory_reserved()\n",
        "    memory_total = torch.cuda.get_device_properties(\"cuda\").total_memory\n",
        "\n",
        "    memory_threshold = memory_total * 0.7\n",
        "    if memory_allocated > memory_threshold or force:\n",
        "        torch.cuda.empty_cache()\n",
        "        gc.collect()"
      ]
    },
    {
      "cell_type": "code",
      "execution_count": 15,
      "metadata": {
        "id": "nxaXvEhpxQMB"
      },
      "outputs": [],
      "source": [
        "def numerical_key(filename):\n",
        "    # Extract the number from filename like \"image_1.png\"\n",
        "    match = re.search(r'\\d+', filename)\n",
        "    return int(match.group()) if match else -1"
      ]
    },
    {
      "cell_type": "code",
      "execution_count": 16,
      "metadata": {
        "id": "guE0Pg4MhkIO"
      },
      "outputs": [],
      "source": [
        "class SampledDataset(Dataset):\n",
        "    def __init__(self, prompts, images=None, transforms=None):\n",
        "        self.data = [{\"category\": c, \"prompt\": p} for c, p in zip(prompts[\"category\"], prompts[\"prompt\"])]\n",
        "        self.images = images\n",
        "        self.transforms = transforms\n",
        "    def __len__(self):\n",
        "        return len(self.data)\n",
        "\n",
        "    def __getitem__(self, idx):\n",
        "        if self.images is not None:\n",
        "            return self.transforms(self.images[idx]), self.data[idx]\n",
        "        return self.data[idx]"
      ]
    },
    {
      "cell_type": "markdown",
      "metadata": {
        "id": "B67ARZTDhpQg"
      },
      "source": [
        "6. Run Transfer Tests"
      ]
    },
    {
      "cell_type": "code",
      "source": [
        "reward_model = ModelFactory.create_model(\n",
        "    model_type=\"hpsv2\",\n",
        "    model_path=\"HPS_v2_compressed.pt\" #HPS_v2_compressed\n",
        ")"
      ],
      "metadata": {
        "colab": {
          "base_uri": "https://localhost:8080/"
        },
        "id": "eWIQNkhQwoew",
        "outputId": "6bd2fb9a-4651-4f0b-f40e-6493089fabb1"
      },
      "execution_count": 17,
      "outputs": [
        {
          "output_type": "stream",
          "name": "stderr",
          "text": [
            "/usr/local/lib/python3.11/dist-packages/huggingface_hub/utils/_auth.py:94: UserWarning: \n",
            "The secret `HF_TOKEN` does not exist in your Colab secrets.\n",
            "To authenticate with the Hugging Face Hub, create a token in your settings tab (https://huggingface.co/settings/tokens), set it as secret in your Google Colab and restart your session.\n",
            "You will be able to reuse this secret in all of your notebooks.\n",
            "Please note that authentication is recommended but still optional to access public models or datasets.\n",
            "  warnings.warn(\n",
            "/usr/local/lib/python3.11/dist-packages/hpsv2/src/open_clip/factory.py:88: FutureWarning: You are using `torch.load` with `weights_only=False` (the current default value), which uses the default pickle module implicitly. It is possible to construct malicious pickle data which will execute arbitrary code during unpickling (See https://github.com/pytorch/pytorch/blob/main/SECURITY.md#untrusted-models for more details). In a future release, the default value for `weights_only` will be flipped to `True`. This limits the functions that could be executed during unpickling. Arbitrary objects will no longer be allowed to be loaded via this mode unless they are explicitly allowlisted by the user via `torch.serialization.add_safe_globals`. We recommend you start setting `weights_only=True` for any use case where you don't have full control of the loaded file. Please open an issue on GitHub for any issues related to this experimental feature.\n",
            "  checkpoint = torch.load(checkpoint_path, map_location=map_location)\n",
            "<ipython-input-8-e919bcaa2e00>:33: FutureWarning: You are using `torch.load` with `weights_only=False` (the current default value), which uses the default pickle module implicitly. It is possible to construct malicious pickle data which will execute arbitrary code during unpickling (See https://github.com/pytorch/pytorch/blob/main/SECURITY.md#untrusted-models for more details). In a future release, the default value for `weights_only` will be flipped to `True`. This limits the functions that could be executed during unpickling. Arbitrary objects will no longer be allowed to be loaded via this mode unless they are explicitly allowlisted by the user via `torch.serialization.add_safe_globals`. We recommend you start setting `weights_only=True` for any use case where you don't have full control of the loaded file. Please open an issue on GitHub for any issues related to this experimental feature.\n",
            "  checkpoint = torch.load(self.model_path)\n"
          ]
        }
      ]
    },
    {
      "cell_type": "code",
      "source": [
        "def run_transfer_test(run_transfer_test_args):\n",
        "    print(run_transfer_test_args)\n",
        "\n",
        "    original_image_directory = run_transfer_test_args.original_images_path\n",
        "    prompts_file = os.path.join(original_image_directory, \"prompts.txt\")\n",
        "    original_prompts = {\"category\": [], \"prompt\": []}\n",
        "    with open(prompts_file, \"r\") as pf:\n",
        "        for line in pf:\n",
        "            content = line.split(\": \", 1)[1].strip()\n",
        "            if content.startswith(\"(\") and content.endswith(\")\"):\n",
        "                category, prompt = ast.literal_eval(content)\n",
        "                original_prompts[\"category\"].append(category)\n",
        "                original_prompts[\"prompt\"].append(prompt)\n",
        "\n",
        "    generated_image_directory = run_transfer_test_args.adversarial_images_path\n",
        "    generated_prompts_file = os.path.join(generated_image_directory, \"prompts.txt\")\n",
        "    generated_prompts = {\"category\": [], \"prompt\": [], \"orig_r\": [], \"adv_r\": []}\n",
        "    with open(generated_prompts_file, \"r\") as pf:\n",
        "        for line in pf:\n",
        "            parts = line.split(\": \", 1)\n",
        "            content = parts[1].strip()\n",
        "            if content.startswith(\"(\") and content.endswith(\")\"):\n",
        "                category, prompt, orig_r, adv_r = ast.literal_eval(content)\n",
        "                generated_prompts[\"category\"].append(category)\n",
        "                generated_prompts[\"prompt\"].append(prompt)\n",
        "\n",
        "    original_image_files = sorted([f for f in os.listdir(original_image_directory) if f.endswith(\".png\")], key=numerical_key)\n",
        "    original_images = [Image.open(os.path.join(original_image_directory, img_file)) for img_file in original_image_files]\n",
        "\n",
        "    generated_image_files = sorted([f for f in os.listdir(generated_image_directory) if f.endswith(\".png\")], key=numerical_key)\n",
        "    generated_images = [Image.open(os.path.join(generated_image_directory, img_file)) for img_file in generated_image_files]\n",
        "\n",
        "    original_mapping = {}\n",
        "    for idx, (cat, prompt) in enumerate(zip(original_prompts[\"category\"], original_prompts[\"prompt\"])):\n",
        "        original_mapping[(cat, prompt)] = original_images[idx]\n",
        "\n",
        "    corresponding_original_images = []\n",
        "    for gen_cat, gen_prompt in zip(generated_prompts[\"category\"], generated_prompts[\"prompt\"]):\n",
        "        orig_img = original_mapping.get((gen_cat, gen_prompt))\n",
        "        corresponding_original_images.append(orig_img)\n",
        "\n",
        "    # Get original reward scores\n",
        "    original_reward_scores = []\n",
        "    original_dataset = SampledDataset(\n",
        "        prompts=original_prompts, images=original_images,\n",
        "        transforms=reward_model.preprocess_function\n",
        "    )\n",
        "    dataloader = DataLoader(original_dataset, batch_size=8, shuffle=False)\n",
        "    for batch in dataloader:\n",
        "        images, prompts = batch\n",
        "        prompt_texts = prompts[\"prompt\"]\n",
        "        original_reward_scores.extend(reward_model.inference(inputs=images, captions=prompt_texts))\n",
        "    generated_prompts[\"orig_r\"] = original_reward_scores\n",
        "\n",
        "    # Get generated reward scores\n",
        "    generated_reward_scores = []\n",
        "    generated_dataset = SampledDataset(\n",
        "        prompts=generated_prompts, images=generated_images,\n",
        "        transforms=reward_model.preprocess_function\n",
        "    )\n",
        "    dataloader = DataLoader(generated_dataset, batch_size=8, shuffle=False)\n",
        "    for batch in dataloader:\n",
        "        images, prompts = batch\n",
        "        prompt_texts = prompts[\"prompt\"]\n",
        "        generated_reward_scores.extend(reward_model.inference(inputs=images, captions=prompt_texts))\n",
        "    generated_prompts[\"adv_r\"] = generated_reward_scores\n",
        "    generated_prompts_tuples = list(zip(\n",
        "        generated_prompts[\"category\"],\n",
        "        generated_prompts[\"prompt\"],\n",
        "        generated_prompts[\"orig_r\"],\n",
        "        generated_prompts[\"adv_r\"]\n",
        "    ))\n",
        "\n",
        "    stats = compute_reward_statistics(generated_prompts_tuples, generated_prompts[\"adv_r\"])\n",
        "    print(\"\\n\" + \"=\" * 40)\n",
        "    print(\"Overall Reward Statistics:\")\n",
        "    print(f\"  Original: {stats['average_original']} | Adversarial: {stats['average_adversarial']}\\n\")\n",
        "\n",
        "    print(\"Per-Category Comparison:\")\n",
        "    all_categories = set(stats[\"per_category_original\"].keys()).union(stats[\"per_category_adversarial\"].keys())\n",
        "    for cat in all_categories:\n",
        "        orig = stats[\"per_category_original\"].get(cat, 0)\n",
        "        adv = stats[\"per_category_adversarial\"].get(cat, 0)\n",
        "        print(f\"  {cat}: Original = {orig} | Adversarial = {adv}\")\n",
        "    print(\"=\" * 40)\n",
        "\n",
        "    clear_cuda_memory_and_force_gc(force=True)"
      ],
      "metadata": {
        "id": "lcYL-o1mF0Dx"
      },
      "execution_count": 18,
      "outputs": []
    },
    {
      "cell_type": "markdown",
      "metadata": {
        "id": "0Q2k2oy0k_Dh"
      },
      "source": [
        "6.1 Gaussian Noise Transfer Test"
      ]
    },
    {
      "cell_type": "code",
      "execution_count": 19,
      "metadata": {
        "id": "oz0jVGvZlBXI",
        "colab": {
          "base_uri": "https://localhost:8080/"
        },
        "outputId": "0c817ab1-9e71-4213-881d-9513d38ef4ed"
      },
      "outputs": [
        {
          "output_type": "stream",
          "name": "stdout",
          "text": [
            "Namespace(reward_model_name='v2.0', original_images_path='outputs/stable-diffusion-3-medium-diffusers/hps/2025-03-08-06-08-35', adversarial_images_path='outputs/stable-diffusion-3-medium-diffusers/hps_adversarial/gn/v1.0/2025-03-09-05-43-05')\n"
          ]
        },
        {
          "output_type": "stream",
          "name": "stderr",
          "text": [
            "<ipython-input-8-e919bcaa2e00>:66: FutureWarning: `torch.cuda.amp.autocast(args...)` is deprecated. Please use `torch.amp.autocast('cuda', args...)` instead.\n",
            "  with torch.cuda.amp.autocast():\n"
          ]
        },
        {
          "output_type": "stream",
          "name": "stdout",
          "text": [
            "\n",
            "========================================\n",
            "Overall Reward Statistics:\n",
            "  Original: 29.1546875 | Adversarial: 25.83359375\n",
            "\n",
            "Per-Category Comparison:\n",
            "  paintings: Original = 28.925 | Adversarial = 25.975\n",
            "  photo: Original = 30.4765625 | Adversarial = 24.0234375\n",
            "  anime: Original = 28.669270833333332 | Adversarial = 26.869791666666668\n",
            "  concept-art: Original = 29.357142857142858 | Adversarial = 25.361607142857142\n",
            "========================================\n"
          ]
        }
      ],
      "source": [
        "import sys\n",
        "sys.argv = [\n",
        "    \"script_name\",  # Placeholder for script name (ignored by argparse)\n",
        "    \"--reward_model_name\", \"v2.0\",\n",
        "    \"--original_images_path\", \"outputs/stable-diffusion-3-medium-diffusers/hps/2025-03-08-06-08-35\",\n",
        "    \"--adversarial_images_path\", \"outputs/stable-diffusion-3-medium-diffusers/hps_adversarial/gn/v1.0/2025-03-09-05-43-05\"\n",
        "]\n",
        "\n",
        "args = parse_transfer_test_args()\n",
        "run_transfer_test(args)"
      ]
    },
    {
      "cell_type": "markdown",
      "metadata": {
        "id": "lMynoi29opEd"
      },
      "source": [
        "6.2 FGSM (Aggregate reward score over batches) Transfer Test"
      ]
    },
    {
      "cell_type": "code",
      "execution_count": 20,
      "metadata": {
        "id": "ip9bUWeMooko",
        "colab": {
          "base_uri": "https://localhost:8080/"
        },
        "outputId": "e5c42bdc-0ddb-4d22-bd29-05f07454ef6c"
      },
      "outputs": [
        {
          "output_type": "stream",
          "name": "stdout",
          "text": [
            "Namespace(reward_model_name='v2.0', original_images_path='outputs/stable-diffusion-3-medium-diffusers/hps/2025-03-08-06-08-35', adversarial_images_path='outputs/stable-diffusion-3-medium-diffusers/hps_adversarial/fgsm/v1.0/2025-03-09-05-43-07')\n"
          ]
        },
        {
          "output_type": "stream",
          "name": "stderr",
          "text": [
            "<ipython-input-8-e919bcaa2e00>:66: FutureWarning: `torch.cuda.amp.autocast(args...)` is deprecated. Please use `torch.amp.autocast('cuda', args...)` instead.\n",
            "  with torch.cuda.amp.autocast():\n"
          ]
        },
        {
          "output_type": "stream",
          "name": "stdout",
          "text": [
            "\n",
            "========================================\n",
            "Overall Reward Statistics:\n",
            "  Original: 29.1546875 | Adversarial: 25.9359375\n",
            "\n",
            "Per-Category Comparison:\n",
            "  paintings: Original = 28.925 | Adversarial = 26.08125\n",
            "  photo: Original = 30.4765625 | Adversarial = 24.203125\n",
            "  anime: Original = 28.669270833333332 | Adversarial = 26.8828125\n",
            "  concept-art: Original = 29.357142857142858 | Adversarial = 25.515625\n",
            "========================================\n"
          ]
        }
      ],
      "source": [
        "sys.argv = [\n",
        "    \"script_name\",  # Placeholder for script name (ignored by argparse)\n",
        "    \"--reward_model_name\", \"v2.0\",\n",
        "    \"--original_images_path\", \"outputs/stable-diffusion-3-medium-diffusers/hps/2025-03-08-06-08-35\",\n",
        "    \"--adversarial_images_path\", \"outputs/stable-diffusion-3-medium-diffusers/hps_adversarial/fgsm/v1.0/2025-03-09-05-43-07\"\n",
        "]\n",
        "\n",
        "args = parse_transfer_test_args()\n",
        "run_transfer_test(args)"
      ]
    },
    {
      "cell_type": "markdown",
      "metadata": {
        "id": "ci3MBO4_rKwF"
      },
      "source": [
        "6.3 FGSM (Update each image individually) Transfer Test"
      ]
    },
    {
      "cell_type": "code",
      "execution_count": 21,
      "metadata": {
        "id": "XEVbBE3DrVyD",
        "colab": {
          "base_uri": "https://localhost:8080/"
        },
        "outputId": "2b4ed15a-432e-496d-89b8-3c099b1f8f0f"
      },
      "outputs": [
        {
          "output_type": "stream",
          "name": "stdout",
          "text": [
            "Namespace(reward_model_name='v2.0', original_images_path='outputs/stable-diffusion-3-medium-diffusers/hps/2025-03-08-06-08-35', adversarial_images_path='outputs/stable-diffusion-3-medium-diffusers/hps_adversarial/fgsm/v1.0/2025-03-09-05-43-10')\n"
          ]
        },
        {
          "output_type": "stream",
          "name": "stderr",
          "text": [
            "<ipython-input-8-e919bcaa2e00>:66: FutureWarning: `torch.cuda.amp.autocast(args...)` is deprecated. Please use `torch.amp.autocast('cuda', args...)` instead.\n",
            "  with torch.cuda.amp.autocast():\n"
          ]
        },
        {
          "output_type": "stream",
          "name": "stdout",
          "text": [
            "\n",
            "========================================\n",
            "Overall Reward Statistics:\n",
            "  Original: 29.1546875 | Adversarial: 25.9359375\n",
            "\n",
            "Per-Category Comparison:\n",
            "  paintings: Original = 28.925 | Adversarial = 26.08125\n",
            "  photo: Original = 30.4765625 | Adversarial = 24.203125\n",
            "  anime: Original = 28.669270833333332 | Adversarial = 26.8828125\n",
            "  concept-art: Original = 29.357142857142858 | Adversarial = 25.515625\n",
            "========================================\n"
          ]
        }
      ],
      "source": [
        "sys.argv = [\n",
        "    \"script_name\",  # Placeholder for script name (ignored by argparse)\n",
        "    \"--reward_model_name\", \"v2.0\",\n",
        "    \"--original_images_path\", \"outputs/stable-diffusion-3-medium-diffusers/hps/2025-03-08-06-08-35\",\n",
        "    \"--adversarial_images_path\", \"outputs/stable-diffusion-3-medium-diffusers/hps_adversarial/fgsm/v1.0/2025-03-09-05-43-10\"\n",
        "]\n",
        "\n",
        "args = parse_transfer_test_args()\n",
        "run_transfer_test(args)"
      ]
    },
    {
      "cell_type": "markdown",
      "metadata": {
        "id": "1n9DjNidrdIO"
      },
      "source": [
        "6.4 PGD Transfer Test"
      ]
    },
    {
      "cell_type": "code",
      "execution_count": 23,
      "metadata": {
        "id": "ezp13K3brfTE",
        "colab": {
          "base_uri": "https://localhost:8080/"
        },
        "outputId": "410621e0-3b01-4e1c-c50a-66af914ca383"
      },
      "outputs": [
        {
          "output_type": "stream",
          "name": "stdout",
          "text": [
            "Namespace(reward_model_name='v2.0', original_images_path='outputs/stable-diffusion-3-medium-diffusers/hps/2025-03-08-06-08-35', adversarial_images_path='outputs/stable-diffusion-3-medium-diffusers/hps_adversarial/pgd/v1.0/2025-03-09-05-44-04')\n"
          ]
        },
        {
          "output_type": "stream",
          "name": "stderr",
          "text": [
            "<ipython-input-8-e919bcaa2e00>:66: FutureWarning: `torch.cuda.amp.autocast(args...)` is deprecated. Please use `torch.amp.autocast('cuda', args...)` instead.\n",
            "  with torch.cuda.amp.autocast():\n"
          ]
        },
        {
          "output_type": "stream",
          "name": "stdout",
          "text": [
            "\n",
            "========================================\n",
            "Overall Reward Statistics:\n",
            "  Original: 29.1546875 | Adversarial: 25.80234375\n",
            "\n",
            "Per-Category Comparison:\n",
            "  paintings: Original = 28.925 | Adversarial = 25.984375\n",
            "  photo: Original = 30.4765625 | Adversarial = 24.1796875\n",
            "  anime: Original = 28.669270833333332 | Adversarial = 26.78125\n",
            "  concept-art: Original = 29.357142857142858 | Adversarial = 25.296875\n",
            "========================================\n"
          ]
        }
      ],
      "source": [
        "sys.argv = [\n",
        "    \"script_name\",  # Placeholder for script name (ignored by argparse)\n",
        "    \"--reward_model_name\", \"v2.0\",\n",
        "    \"--original_images_path\", \"outputs/stable-diffusion-3-medium-diffusers/hps/2025-03-08-06-08-35\",\n",
        "    \"--adversarial_images_path\", \"outputs/stable-diffusion-3-medium-diffusers/hps_adversarial/pgd/v1.0/2025-03-09-05-44-04\"\n",
        "]\n",
        "\n",
        "args = parse_transfer_test_args()\n",
        "run_transfer_test(args)"
      ]
    },
    {
      "cell_type": "markdown",
      "metadata": {
        "id": "tYM6Kw9jry-j"
      },
      "source": [
        "6.5 SPSA Transfer Test"
      ]
    },
    {
      "cell_type": "code",
      "execution_count": 24,
      "metadata": {
        "id": "tFkqtL_Ur1iT",
        "colab": {
          "base_uri": "https://localhost:8080/"
        },
        "outputId": "50e32b0d-928d-4d4d-c56d-79511680b8ec"
      },
      "outputs": [
        {
          "output_type": "stream",
          "name": "stdout",
          "text": [
            "Namespace(reward_model_name='v2.0', original_images_path='outputs/stable-diffusion-3-medium-diffusers/hps/2025-03-08-06-08-35', adversarial_images_path='outputs/stable-diffusion-3-medium-diffusers/hps_adversarial/spsa/v1.0/2025-03-09-05-45-04')\n"
          ]
        },
        {
          "output_type": "stream",
          "name": "stderr",
          "text": [
            "<ipython-input-8-e919bcaa2e00>:66: FutureWarning: `torch.cuda.amp.autocast(args...)` is deprecated. Please use `torch.amp.autocast('cuda', args...)` instead.\n",
            "  with torch.cuda.amp.autocast():\n"
          ]
        },
        {
          "output_type": "stream",
          "name": "stdout",
          "text": [
            "\n",
            "========================================\n",
            "Overall Reward Statistics:\n",
            "  Original: 29.1546875 | Adversarial: 25.93359375\n",
            "\n",
            "Per-Category Comparison:\n",
            "  paintings: Original = 28.925 | Adversarial = 26.096875\n",
            "  photo: Original = 30.4765625 | Adversarial = 24.2578125\n",
            "  anime: Original = 28.669270833333332 | Adversarial = 26.869791666666668\n",
            "  concept-art: Original = 29.357142857142858 | Adversarial = 25.493303571428573\n",
            "========================================\n"
          ]
        }
      ],
      "source": [
        "sys.argv = [\n",
        "    \"script_name\",  # Placeholder for script name (ignored by argparse)\n",
        "    \"--reward_model_name\", \"v2.0\",\n",
        "    \"--original_images_path\", \"outputs/stable-diffusion-3-medium-diffusers/hps/2025-03-08-06-08-35\",\n",
        "    \"--adversarial_images_path\", \"outputs/stable-diffusion-3-medium-diffusers/hps_adversarial/spsa/v1.0/2025-03-09-05-45-04\"\n",
        "]\n",
        "\n",
        "args = parse_transfer_test_args()\n",
        "run_transfer_test(args)"
      ]
    }
  ],
  "metadata": {
    "accelerator": "GPU",
    "colab": {
      "gpuType": "T4",
      "provenance": []
    },
    "kernelspec": {
      "display_name": "Python 3",
      "name": "python3"
    },
    "language_info": {
      "name": "python"
    }
  },
  "nbformat": 4,
  "nbformat_minor": 0
}